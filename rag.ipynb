{
 "cells": [
  {
   "cell_type": "code",
   "execution_count": 1,
   "metadata": {},
   "outputs": [],
   "source": [
    "# PDF processing\n",
    "from langchain_community.document_loaders import PyPDFLoader\n",
    "# Splitting\n",
    "from langchain.text_splitter import RecursiveCharacterTextSplitter\n",
    "# Embedding & Chroma DB\n",
    "from langchain_community.embeddings import SentenceTransformerEmbeddings\n",
    "from langchain.vectorstores import Chroma\n",
    "from langchain.embeddings import HuggingFaceEmbeddings\n",
    "# from sentence_transformers import SentenceTransformer\n",
    "from langchain.retrievers import MultiQueryRetriever\n",
    "from langchain.prompts import PromptTemplate\n",
    "import chromadb\n",
    "from langchain_chroma import Chroma # Import Chroma class for vectorstore initialization.\n",
    "from langchain_groq import ChatGroq\n",
    "from langchain.schema import HumanMessage\n",
    "# Groq for LLM\n",
    "import groq\n",
    "\n",
    "import os"
   ]
  },
  {
   "cell_type": "code",
   "execution_count": 2,
   "metadata": {},
   "outputs": [],
   "source": [
    "# API Key\n",
    "GROQ_API_KEY = os.getenv(\"GROQ_API_KEY\")"
   ]
  },
  {
   "cell_type": "code",
   "execution_count": 3,
   "metadata": {},
   "outputs": [],
   "source": [
    "# Load the pdf file.\n",
    "loader = PyPDFLoader(\"constitution_of_kenya.pdf\")\n",
    "pdf = loader.load()"
   ]
  },
  {
   "cell_type": "code",
   "execution_count": 4,
   "metadata": {},
   "outputs": [],
   "source": [
    "# Initializing the splitters.\n",
    "text_splitter = RecursiveCharacterTextSplitter(chunk_size=1000, chunk_overlap=200)\n",
    "chunks = text_splitter.split_documents(pdf)"
   ]
  },
  {
   "cell_type": "code",
   "execution_count": 5,
   "metadata": {},
   "outputs": [
    {
     "name": "stderr",
     "output_type": "stream",
     "text": [
      "/tmp/ipykernel_6020/2890968101.py:2: LangChainDeprecationWarning: The class `HuggingFaceEmbeddings` was deprecated in LangChain 0.2.2 and will be removed in 1.0. An updated version of the class exists in the :class:`~langchain-huggingface package and should be used instead. To use it run `pip install -U :class:`~langchain-huggingface` and import as `from :class:`~langchain_huggingface import HuggingFaceEmbeddings``.\n",
      "  model = SentenceTransformerEmbeddings(model_name=\"multi-qa-MiniLM-L6-cos-v1\", show_progress=True)\n",
      "/workspace/.pyenv_mirror/user/current/lib/python3.12/site-packages/tqdm/auto.py:21: TqdmWarning: IProgress not found. Please update jupyter and ipywidgets. See https://ipywidgets.readthedocs.io/en/stable/user_install.html\n",
      "  from .autonotebook import tqdm as notebook_tqdm\n"
     ]
    }
   ],
   "source": [
    "# Initialize the embedding model.\n",
    "model = SentenceTransformerEmbeddings(model_name=\"multi-qa-MiniLM-L6-cos-v1\", show_progress=True)"
   ]
  },
  {
   "cell_type": "code",
   "execution_count": 6,
   "metadata": {},
   "outputs": [],
   "source": [
    "# Prepare texts for embedding\n",
    "texts = [chunk.page_content for chunk in chunks]\n",
    "metadatas = [chunk.metadata for chunk in chunks]"
   ]
  },
  {
   "cell_type": "code",
   "execution_count": 7,
   "metadata": {},
   "outputs": [
    {
     "name": "stderr",
     "output_type": "stream",
     "text": [
      "Batches:   0%|          | 0/16 [00:00<?, ?it/s]"
     ]
    },
    {
     "name": "stderr",
     "output_type": "stream",
     "text": [
      "Batches: 100%|██████████| 16/16 [00:26<00:00,  1.68s/it]\n"
     ]
    }
   ],
   "source": [
    "# Generate embeddings\n",
    "embeddings_vectors = model.embed_documents(texts)"
   ]
  },
  {
   "cell_type": "code",
   "execution_count": 8,
   "metadata": {},
   "outputs": [],
   "source": [
    "# Setting up Chroma\n",
    "client = chromadb.PersistentClient(path = \"chroma_store\")\n",
    "collection = client.get_or_create_collection(name = \"Kenya_constitution\")"
   ]
  },
  {
   "cell_type": "code",
   "execution_count": 9,
   "metadata": {},
   "outputs": [],
   "source": [
    "# Initialize ChromaDB with updated settings\n",
    "vectore_store = Chroma(\n",
    "    collection_name=\"kenya_constitution\",\n",
    "    embedding_function=model,\n",
    "    persist_directory=\"./chroma_store\"\n",
    ")"
   ]
  },
  {
   "cell_type": "code",
   "execution_count": 10,
   "metadata": {},
   "outputs": [],
   "source": [
    "# Initialize the retriever\n",
    "question = \"What is the structure of the Kenyan government?\"\n",
    "llm = ChatGroq(\n",
    "    model=\"llama3-70b-8192\",\n",
    "    temperature=0,\n",
    "    groq_api_key=GROQ_API_KEY\n",
    ")\n",
    "\n",
    "retriever_from_llm = MultiQueryRetriever.from_llm(\n",
    "    retriever=vectore_store.as_retriever(), llm=llm\n",
    ")"
   ]
  },
  {
   "cell_type": "code",
   "execution_count": 11,
   "metadata": {},
   "outputs": [],
   "source": [
    "def get_response(question):\n",
    "    # Retrieve relevant documents\n",
    "    docs = retriever_from_llm.get_relevant_documents(question)\n",
    "\n",
    "    # Format the retrieved documents (using a simple prompt template here)\n",
    "    prompt_template = \"\"\"You are a constitutional advisor specialized in the Kenyan Constitution.\n",
    "    Use only the following excerpts from the Kenyan Constitution to answer the question.\n",
    "    If the specific information isn't found in these excerpts, state that the information\n",
    "isn't available in the provided constitutional sections rather than speculating.\n",
    "\n",
    "CONSTITUTIONAL EXCERPTS:\n",
    "{context}\n",
    "\n",
    "Question: {question}\n",
    "Answer based strictly on the Kenyan Constitution:\"\"\"\n",
    "\n",
    "\n",
    "    # Moved the prompt formatting inside the function\n",
    "    prompt = PromptTemplate(\n",
    "        template=prompt_template, input_variables=[\"context\", \"question\"]\n",
    "    ).format(context=\"\\n\\n\".join([doc.page_content for doc in docs]), question=question)\n",
    "\n",
    "    # Generate a response using the LLM\n",
    "    response = llm([HumanMessage(content=prompt)])\n",
    "    print(response)\n",
    "    return response # Added return statement to return the response"
   ]
  },
  {
   "cell_type": "code",
   "execution_count": 12,
   "metadata": {},
   "outputs": [
    {
     "name": "stderr",
     "output_type": "stream",
     "text": [
      "/tmp/ipykernel_6020/2847194913.py:3: LangChainDeprecationWarning: The method `BaseRetriever.get_relevant_documents` was deprecated in langchain-core 0.1.46 and will be removed in 1.0. Use :meth:`~invoke` instead.\n",
      "  docs = retriever_from_llm.get_relevant_documents(question)\n",
      "Batches: 100%|██████████| 1/1 [00:00<00:00, 83.50it/s]\n",
      "Batches: 100%|██████████| 1/1 [00:00<00:00, 85.82it/s]\n",
      "Batches: 100%|██████████| 1/1 [00:00<00:00, 101.59it/s]\n",
      "Batches: 100%|██████████| 1/1 [00:00<00:00, 98.51it/s]\n",
      "Batches: 100%|██████████| 1/1 [00:00<00:00, 14.15it/s]\n",
      "/tmp/ipykernel_6020/2847194913.py:24: LangChainDeprecationWarning: The method `BaseChatModel.__call__` was deprecated in langchain-core 0.1.7 and will be removed in 1.0. Use :meth:`~invoke` instead.\n",
      "  response = llm([HumanMessage(content=prompt)])\n"
     ]
    },
    {
     "name": "stdout",
     "output_type": "stream",
     "text": [
      "content='According to Article 137 of the Kenyan Constitution:\\n\\n\"A person qualifies for nomination as a presidential candidate if the person—\\n\\n(a) is a Kenyan citizen by birth;\\n\\n(b) is qualified to stand for election as a member of Parliament;\\n\\n(c) is nominated by a political party, or is an independent candidate;\\n\\n(d) meets the educational, moral and ethical requirements prescribed by this Constitution or by an Act of Parliament;\\n\\n(e) is nominated by not fewer than two thousand voters from each of a majority of the counties.\"\\n\\nTherefore, the qualifications for becoming a President in Kenya are:\\n\\n1. Being a Kenyan citizen by birth\\n2. Being qualified to stand for election as a member of Parliament\\n3. Being nominated by a political party or being an independent candidate\\n4. Meeting the educational, moral, and ethical requirements prescribed by the Constitution or an Act of Parliament\\n5. Being nominated by not fewer than two thousand voters from each of a majority of the counties.' additional_kwargs={} response_metadata={'token_usage': {'completion_tokens': 196, 'prompt_tokens': 96, 'total_tokens': 292, 'completion_time': 0.636109716, 'prompt_time': 0.002635342, 'queue_time': 0.107617819, 'total_time': 0.638745058}, 'model_name': 'llama3-70b-8192', 'system_fingerprint': 'fp_dd4ae1c591', 'finish_reason': 'stop', 'logprobs': None} id='run-be68b064-56ca-4db3-ac7c-63226edec8ef-0' usage_metadata={'input_tokens': 96, 'output_tokens': 196, 'total_tokens': 292}\n",
      "content='According to Article 137 of the Kenyan Constitution:\\n\\n\"A person qualifies for nomination as a presidential candidate if the person—\\n\\n(a) is a Kenyan citizen by birth;\\n\\n(b) is qualified to stand for election as a member of Parliament;\\n\\n(c) is nominated by a political party, or is an independent candidate;\\n\\n(d) meets the educational, moral and ethical requirements prescribed by this Constitution or by an Act of Parliament;\\n\\n(e) is nominated by not fewer than two thousand voters from each of a majority of the counties.\"\\n\\nTherefore, the qualifications for becoming a President in Kenya are:\\n\\n1. Being a Kenyan citizen by birth\\n2. Being qualified to stand for election as a member of Parliament\\n3. Being nominated by a political party or being an independent candidate\\n4. Meeting the educational, moral, and ethical requirements prescribed by the Constitution or an Act of Parliament\\n5. Being nominated by not fewer than two thousand voters from each of a majority of the counties.' additional_kwargs={} response_metadata={'token_usage': {'completion_tokens': 196, 'prompt_tokens': 96, 'total_tokens': 292, 'completion_time': 0.636109716, 'prompt_time': 0.002635342, 'queue_time': 0.107617819, 'total_time': 0.638745058}, 'model_name': 'llama3-70b-8192', 'system_fingerprint': 'fp_dd4ae1c591', 'finish_reason': 'stop', 'logprobs': None} id='run-be68b064-56ca-4db3-ac7c-63226edec8ef-0' usage_metadata={'input_tokens': 96, 'output_tokens': 196, 'total_tokens': 292}\n"
     ]
    }
   ],
   "source": [
    "# Example usage\n",
    "query = input(\"You:\")\n",
    "response = get_response(query)\n",
    "print(response)"
   ]
  }
 ],
 "metadata": {
  "kernelspec": {
   "display_name": "Python 3",
   "language": "python",
   "name": "python3"
  },
  "language_info": {
   "codemirror_mode": {
    "name": "ipython",
    "version": 3
   },
   "file_extension": ".py",
   "mimetype": "text/x-python",
   "name": "python",
   "nbconvert_exporter": "python",
   "pygments_lexer": "ipython3",
   "version": "3.12.9"
  }
 },
 "nbformat": 4,
 "nbformat_minor": 2
}
